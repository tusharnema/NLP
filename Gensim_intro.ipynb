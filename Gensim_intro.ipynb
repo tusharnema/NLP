{
 "cells": [
  {
   "cell_type": "code",
   "execution_count": 16,
   "metadata": {},
   "outputs": [],
   "source": [
    "from gensim.models import Word2Vec"
   ]
  },
  {
   "cell_type": "code",
   "execution_count": 17,
   "metadata": {},
   "outputs": [],
   "source": [
    "# define training data\n",
    "sentences = [['this', 'is', 'the', 'first', 'sentence', 'for', 'word2vec'],\n",
    "            ['this', 'is', 'the', 'second', 'sentence'],\n",
    "            ['yet', 'another', 'sentence'],\n",
    "            ['one', 'more', 'sentence'],\n",
    "            ['and', 'the', 'final', 'sentence']]"
   ]
  },
  {
   "cell_type": "code",
   "execution_count": 18,
   "metadata": {},
   "outputs": [],
   "source": [
    "# train model\n",
    "model = Word2Vec(sentences, min_count=1)"
   ]
  },
  {
   "cell_type": "code",
   "execution_count": 19,
   "metadata": {},
   "outputs": [
    {
     "name": "stdout",
     "output_type": "stream",
     "text": [
      "Word2Vec(vocab=14, size=100, alpha=0.025)\n"
     ]
    }
   ],
   "source": [
    "# summarize the loaded model\n",
    "print(model)"
   ]
  },
  {
   "cell_type": "code",
   "execution_count": 20,
   "metadata": {},
   "outputs": [],
   "source": [
    "# summarize vocabulary\n",
    "words = list(model.wv.vocab)"
   ]
  },
  {
   "cell_type": "code",
   "execution_count": 21,
   "metadata": {},
   "outputs": [
    {
     "name": "stdout",
     "output_type": "stream",
     "text": [
      "['this', 'is', 'the', 'first', 'sentence', 'for', 'word2vec', 'second', 'yet', 'another', 'one', 'more', 'and', 'final']\n"
     ]
    }
   ],
   "source": [
    "print(words)"
   ]
  },
  {
   "cell_type": "code",
   "execution_count": 22,
   "metadata": {},
   "outputs": [
    {
     "name": "stdout",
     "output_type": "stream",
     "text": [
      "[-4.2885700e-03 -1.2570171e-04  4.9619372e-03 -4.8755531e-04\n",
      "  4.5120567e-03  1.9086097e-04 -3.1104758e-03 -2.9753612e-03\n",
      "  1.7337368e-03  1.2653519e-03  3.9379811e-03  1.2579346e-03\n",
      "  4.5134812e-03  7.3416583e-04 -3.8408961e-03 -9.1083749e-04\n",
      " -6.0142664e-04 -3.4526680e-03 -3.3707095e-03  1.9464906e-03\n",
      " -4.6129334e-03  3.9737619e-04 -1.7937182e-03  3.5306863e-03\n",
      "  3.9125751e-03  4.8652906e-03 -1.8460792e-03  1.5043773e-03\n",
      " -4.4448781e-03 -4.1026208e-03 -1.6766571e-03  4.2961184e-03\n",
      " -4.0101688e-04  4.2104586e-03  9.0706005e-04  4.8669623e-03\n",
      "  4.6655005e-03  3.1836543e-03  2.1489931e-03  3.5379445e-03\n",
      " -7.3003251e-04 -1.8166609e-03 -3.6017746e-03 -8.2918885e-04\n",
      "  1.7048856e-03  1.6611107e-03 -3.9384477e-03  2.4133143e-03\n",
      "  4.5625418e-03  2.4698311e-03  3.1121590e-03 -1.1099334e-03\n",
      "  3.1602355e-03 -8.4723264e-04  4.7358256e-03 -3.2994878e-03\n",
      " -4.7602979e-03  1.0962106e-03  3.7641430e-03  1.0322019e-03\n",
      "  7.1769912e-04 -7.2976440e-04 -1.1130281e-03 -4.3873014e-03\n",
      "  2.0965775e-03  3.6205163e-03 -5.6648941e-04  1.9185178e-04\n",
      " -2.9095709e-03  4.4778227e-03 -1.6631837e-03  4.6714130e-03\n",
      " -1.8690786e-03 -2.7498261e-03 -2.5026524e-03  4.0106536e-03\n",
      "  4.1406075e-03  1.5069826e-03 -9.4256044e-04  6.8815972e-04\n",
      " -4.5224314e-04 -7.3684106e-04  4.4441340e-03  3.2015978e-03\n",
      " -4.3382212e-03 -2.7747818e-03 -3.6099716e-03  1.8938492e-03\n",
      " -3.7770576e-03 -5.7128962e-04 -4.3770536e-03 -4.5229928e-03\n",
      "  1.6098655e-03 -1.5627093e-05  4.1691860e-04  1.7159629e-03\n",
      "  3.5319291e-03 -6.0741632e-04 -2.6790600e-03 -3.9986894e-03]\n"
     ]
    },
    {
     "name": "stderr",
     "output_type": "stream",
     "text": [
      "/anaconda3/lib/python3.6/site-packages/ipykernel_launcher.py:2: DeprecationWarning: Call to deprecated `__getitem__` (Method will be removed in 4.0.0, use self.wv.__getitem__() instead).\n",
      "  \n"
     ]
    }
   ],
   "source": [
    "# access vector for one word\n",
    "print(model['for'])"
   ]
  },
  {
   "cell_type": "code",
   "execution_count": 23,
   "metadata": {},
   "outputs": [],
   "source": [
    "# save model\n",
    "model.save('model_gensim_intro.bin')"
   ]
  },
  {
   "cell_type": "code",
   "execution_count": 24,
   "metadata": {},
   "outputs": [],
   "source": [
    "# load model\n",
    "new_model = Word2Vec.load('model_gensim_intro.bin')"
   ]
  },
  {
   "cell_type": "code",
   "execution_count": 25,
   "metadata": {},
   "outputs": [
    {
     "name": "stdout",
     "output_type": "stream",
     "text": [
      "Word2Vec(vocab=14, size=100, alpha=0.025)\n"
     ]
    }
   ],
   "source": [
    "print(new_model)"
   ]
  },
  {
   "cell_type": "code",
   "execution_count": 26,
   "metadata": {},
   "outputs": [
    {
     "name": "stderr",
     "output_type": "stream",
     "text": [
      "/anaconda3/lib/python3.6/site-packages/ipykernel_launcher.py:1: DeprecationWarning: Call to deprecated `__getitem__` (Method will be removed in 4.0.0, use self.wv.__getitem__() instead).\n",
      "  \"\"\"Entry point for launching an IPython kernel.\n"
     ]
    }
   ],
   "source": [
    "X = model[model.wv.vocab]"
   ]
  },
  {
   "cell_type": "code",
   "execution_count": 27,
   "metadata": {},
   "outputs": [
    {
     "data": {
      "text/plain": [
       "array([[ 8.3102059e-04, -3.6968454e-03,  1.2915366e-03, ...,\n",
       "         6.2758761e-04,  3.4452928e-03,  2.7445187e-03],\n",
       "       [ 1.3583660e-03, -4.8073349e-04, -3.0118108e-03, ...,\n",
       "         6.3459121e-04,  3.4814263e-03,  3.4616559e-03],\n",
       "       [-4.9240831e-03, -4.4972687e-03, -3.7488012e-04, ...,\n",
       "         1.4873721e-03, -2.4779923e-03, -2.8222856e-05],\n",
       "       ...,\n",
       "       [-2.0593904e-04,  2.6815031e-03, -2.5096131e-03, ...,\n",
       "         4.5834612e-03,  3.0622801e-03, -1.2631167e-03],\n",
       "       [ 1.3890563e-03,  2.2455993e-04, -6.4139377e-04, ...,\n",
       "         4.8613460e-03,  2.2391653e-04, -1.8539793e-03],\n",
       "       [-3.5055834e-03,  4.8916688e-04, -3.2295729e-03, ...,\n",
       "        -2.9414068e-03,  1.4288963e-03,  4.5670170e-04]], dtype=float32)"
      ]
     },
     "execution_count": 27,
     "metadata": {},
     "output_type": "execute_result"
    }
   ],
   "source": [
    "X"
   ]
  },
  {
   "cell_type": "code",
   "execution_count": 33,
   "metadata": {},
   "outputs": [
    {
     "data": {
      "text/plain": [
       "(14, 100)"
      ]
     },
     "execution_count": 33,
     "metadata": {},
     "output_type": "execute_result"
    }
   ],
   "source": [
    "X.shape"
   ]
  },
  {
   "cell_type": "markdown",
   "metadata": {},
   "source": [
    "## Doing Dimensionality Reduction"
   ]
  },
  {
   "cell_type": "code",
   "execution_count": 29,
   "metadata": {},
   "outputs": [],
   "source": [
    "import numpy as np\n",
    "from sklearn.decomposition import PCA\n",
    "pca = PCA(n_components=2)\n",
    "result = pca.fit_transform(X)"
   ]
  },
  {
   "cell_type": "code",
   "execution_count": 30,
   "metadata": {},
   "outputs": [
    {
     "data": {
      "text/plain": [
       "PCA(copy=True, iterated_power='auto', n_components=2, random_state=None,\n",
       "  svd_solver='auto', tol=0.0, whiten=False)"
      ]
     },
     "execution_count": 30,
     "metadata": {},
     "output_type": "execute_result"
    }
   ],
   "source": [
    "pca"
   ]
  },
  {
   "cell_type": "code",
   "execution_count": 31,
   "metadata": {},
   "outputs": [
    {
     "data": {
      "text/plain": [
       "array([[-5.6106211e-03,  1.5508543e-02],\n",
       "       [-1.0331481e-03, -4.4584880e-03],\n",
       "       [-9.9546695e-03, -1.9284115e-03],\n",
       "       [-1.3522963e-02,  1.2590714e-02],\n",
       "       [-1.1250460e-02,  9.0049254e-04],\n",
       "       [ 1.4102370e-02, -1.0128402e-02],\n",
       "       [-7.2326423e-03, -9.7348848e-03],\n",
       "       [ 4.1042804e-03, -9.2821540e-03],\n",
       "       [ 8.6809183e-03,  1.8591616e-02],\n",
       "       [-8.6269947e-03, -8.9152548e-03],\n",
       "       [-4.0520335e-05, -6.7491233e-03],\n",
       "       [ 3.0285462e-03, -2.3260948e-03],\n",
       "       [ 1.8411504e-02,  7.3454492e-03],\n",
       "       [ 8.9444108e-03, -1.4139866e-03]], dtype=float32)"
      ]
     },
     "execution_count": 31,
     "metadata": {},
     "output_type": "execute_result"
    }
   ],
   "source": [
    "result"
   ]
  },
  {
   "cell_type": "code",
   "execution_count": 32,
   "metadata": {},
   "outputs": [
    {
     "data": {
      "text/plain": [
       "(14, 2)"
      ]
     },
     "execution_count": 32,
     "metadata": {},
     "output_type": "execute_result"
    }
   ],
   "source": [
    "result.shape"
   ]
  },
  {
   "cell_type": "code",
   "execution_count": 80,
   "metadata": {},
   "outputs": [
    {
     "data": {
      "text/plain": [
       "array([-5.6106211e-03, -1.0331481e-03, -9.9546695e-03, -1.3522963e-02,\n",
       "       -1.1250460e-02,  1.4102370e-02, -7.2326423e-03,  4.1042804e-03,\n",
       "        8.6809183e-03, -8.6269947e-03, -4.0520335e-05,  3.0285462e-03,\n",
       "        1.8411504e-02,  8.9444108e-03], dtype=float32)"
      ]
     },
     "execution_count": 80,
     "metadata": {},
     "output_type": "execute_result"
    }
   ],
   "source": [
    "result[:,0]"
   ]
  },
  {
   "cell_type": "code",
   "execution_count": 35,
   "metadata": {},
   "outputs": [
    {
     "data": {
      "image/png": "[encoded data removed]",
      "text/plain": [
       "<Figure size 432x288 with 1 Axes>"
      ]
     },
     "metadata": {},
     "output_type": "display_data"
    }
   ],
   "source": [
    "import matplotlib.pyplot as plt\n",
    "plt.scatter(result[:, 0], result[:, 1])\n",
    "plt.show()"
   ]
  },
  {
   "cell_type": "code",
   "execution_count": 63,
   "metadata": {},
   "outputs": [
    {
     "name": "stdout",
     "output_type": "stream",
     "text": [
      "['this', 'is', 'the', 'first', 'sentence', 'for', 'word2vec', 'second', 'yet', 'another', 'one', 'more', 'and', 'final']\n"
     ]
    },
    {
     "data": {
      "text/plain": [
       "(-0.02, 0.03)"
      ]
     },
     "execution_count": 63,
     "metadata": {},
     "output_type": "execute_result"
    },
    {
     "data": {
      "image/png": "[encoded data removed]",
      "text/plain": [
       "<Figure size 432x288 with 1 Axes>"
      ]
     },
     "metadata": {},
     "output_type": "display_data"
    }
   ],
   "source": [
    "words = list(model.wv.vocab)\n",
    "print(words)\n",
    "for i, word in enumerate(words):\n",
    "    plt.annotate(word, xy=(result[i, 0], result[i, 1]))\n",
    "\n",
    "axes = plt.gca()\n",
    "axes.set_xlim([-0.02,0.03])\n",
    "axes.set_ylim([-0.02,0.03])"
   ]
  },
  {
   "cell_type": "code",
   "execution_count": null,
   "metadata": {},
   "outputs": [],
   "source": []
  },
  {
   "cell_type": "code",
   "execution_count": null,
   "metadata": {},
   "outputs": [],
   "source": []
  },
  {
   "cell_type": "code",
   "execution_count": null,
   "metadata": {},
   "outputs": [],
   "source": []
  },
  {
   "cell_type": "code",
   "execution_count": null,
   "metadata": {},
   "outputs": [],
   "source": []
  }
 ],
 "metadata": {
  "kernelspec": {
   "display_name": "Python 3",
   "language": "python",
   "name": "python3"
  },
  "language_info": {
   "codemirror_mode": {
    "name": "ipython",
    "version": 3
   },
   "file_extension": ".py",
   "mimetype": "text/x-python",
   "name": "python",
   "nbconvert_exporter": "python",
   "pygments_lexer": "ipython3",
   "version": "3.6.5"
  }
 },
 "nbformat": 4,
 "nbformat_minor": 2
}
