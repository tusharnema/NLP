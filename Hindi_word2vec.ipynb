{
 "cells": [
  {
   "cell_type": "code",
   "execution_count": 1,
   "metadata": {},
   "outputs": [],
   "source": [
    "import codecs\n",
    "import glob\n",
    "import logging\n",
    "import multiprocessing\n",
    "import os\n",
    "import pprint\n",
    "import re\n",
    "import random\n",
    "import sys"
   ]
  },
  {
   "cell_type": "code",
   "execution_count": 2,
   "metadata": {},
   "outputs": [],
   "source": [
    "import nltk\n",
    "import gensim.models.word2vec as w2v\n",
    "import gensim\n",
    "import sklearn.manifold\n",
    "import numpy as np\n",
    "import matplotlib.pyplot as plt\n",
    "import pandas as pd\n",
    "import seaborn as sns\n",
    "from sklearn.manifold import TSNE"
   ]
  },
  {
   "cell_type": "code",
   "execution_count": 3,
   "metadata": {},
   "outputs": [],
   "source": [
    "model = gensim.models.Word2Vec.load('hi.bin')"
   ]
  },
  {
   "cell_type": "code",
   "execution_count": 4,
   "metadata": {},
   "outputs": [
    {
     "name": "stdout",
     "output_type": "stream",
     "text": [
      "Word2Vec(vocab=30393, size=300, alpha=0.025)\n"
     ]
    }
   ],
   "source": [
    "print(model)"
   ]
  },
  {
   "cell_type": "code",
   "execution_count": 5,
   "metadata": {},
   "outputs": [],
   "source": [
    "# summarize vocabulary\n",
    "words = list(model.wv.vocab)"
   ]
  },
  {
   "cell_type": "code",
   "execution_count": 6,
   "metadata": {},
   "outputs": [
    {
     "name": "stdout",
     "output_type": "stream",
     "text": [
      "['विनिवेश', 'लवण', 'देवीसिंह', 'घाटा', 'हस्तचालित', 'डीवीडी', 'उठायी', 'श्रीकाकुलम', 'हिग्स', 'घटनाक्रम', 'लालिमा', 'लिथुआनिया', 'माथे', 'टर्न', 'इत्र', 'बांग्ला', 'अभिशाप', 'फ़्यूचर', 'हैरिसन', 'इकसिंगे', 'पेंस', 'यौवन', 'पांड्यों', 'माथा', 'अंबर', 'जनेऊ', 'अंबा', 'पेंट', 'पेंच', 'फ़िल्मांकन', 'देवियाँ', 'फेनी', 'नाटिका', 'कोलबर्ग', 'तत्त्वों', 'घाटी', 'घाटे', 'सेनानायक', 'इंडिका', 'बुल्गारिया', 'कमर', 'निषेधाज्ञा', 'अमरीका', 'प्रामाणिकता', 'ब्रह्मांडीय', 'कमा', 'डिजाइनर', 'अमरीकन', 'सह-निर्माता', 'शताब्दियों', 'वस्तुनिष्ठ', 'गाव', 'मण्डली', 'निवृत्ति', 'स्टैण्डर्ड', 'इच्छित', 'मंदाकिनी', 'प्रोफेसरों', 'रसायनशास्त्री', 'पियानो', 'व्यास', 'जर्मनिक', 'कहा-', 'कमी', 'फ़्रान्स', 'फ़ौज', 'रिक्ति', 'टेस्टिंग', 'अमरीकी', 'व्याध', 'मनुस्मृति', 'श्रावस्ती', 'सौन्दर्य', 'बारात', 'दंडों', 'बुख़ारा', 'अरमानी', 'दाम्पत्य', 'क्रिकेट', 'उडीसा', 'भागीदारी', 'बटेर', 'मीट्रिक', 'पद्धतियों', 'परेशानी', 'सट्टा', 'कृष्णराज', 'सिटिज़', 'एनजाइना', 'टीकाकार', 'ब्रह्मविद्या', 'लाओस', 'वरिष्ठता', 'वाणी', 'निखारने', 'प्रकाशन', 'समाधि', 'गान्धी', 'छ', 'प्रकाशत']\n"
     ]
    }
   ],
   "source": [
    "print(words[:100])"
   ]
  },
  {
   "cell_type": "code",
   "execution_count": 7,
   "metadata": {},
   "outputs": [
    {
     "data": {
      "text/plain": [
       "[('भरतनाट्यम', 0.7278464436531067),\n",
       " ('ध्रुपद', 0.7099226117134094),\n",
       " ('चैती', 0.6973972916603088),\n",
       " ('ठुमरी', 0.6965022683143616),\n",
       " ('ओडिसी', 0.6958686709403992),\n",
       " ('संगीतमय', 0.6877726912498474),\n",
       " ('मूकाभिनय', 0.6867836117744446),\n",
       " ('कथक', 0.6865541338920593),\n",
       " ('गरबा', 0.6784392595291138),\n",
       " ('गीतगोविन्द', 0.6764531135559082)]"
      ]
     },
     "execution_count": 7,
     "metadata": {},
     "output_type": "execute_result"
    }
   ],
   "source": [
    "model.wv.most_similar('नाटिका')"
   ]
  },
  {
   "cell_type": "code",
   "execution_count": 8,
   "metadata": {},
   "outputs": [
    {
     "data": {
      "text/plain": [
       "[('सौंदर्य', 0.8637158870697021),\n",
       " ('कलात्मकता', 0.7224439382553101),\n",
       " ('अद्भुत', 0.6824588775634766),\n",
       " ('श्रृंगार', 0.6814439296722412),\n",
       " ('नैसर्गिक', 0.6725433468818665),\n",
       " ('अनुपम', 0.6696207523345947),\n",
       " ('माधुर्य', 0.6662158370018005),\n",
       " ('शिल्प', 0.6526128649711609),\n",
       " ('वैभव', 0.6403029561042786),\n",
       " ('कलात्मक', 0.6374174952507019)]"
      ]
     },
     "execution_count": 8,
     "metadata": {},
     "output_type": "execute_result"
    }
   ],
   "source": [
    "model.wv.most_similar('सौन्दर्य')"
   ]
  },
  {
   "cell_type": "code",
   "execution_count": 9,
   "metadata": {},
   "outputs": [
    {
     "name": "stdout",
     "output_type": "stream",
     "text": [
      "[('सहवाग', 0.6555640697479248), ('धोनी', 0.6221283078193665), ('मुरलीधरन', 0.5859558582305908), ('गावस्कर', 0.5848496556282043), ('वीरेंद्र', 0.5783268809318542), ('सचिन', 0.5725929737091064), ('विकेटकीपर', 0.5701088905334473), ('उन्नीकृष्णन', 0.5640284419059753), ('कुंबले', 0.5637799501419067), ('तेंदुलकर', 0.5608426332473755)]\n"
     ]
    }
   ],
   "source": [
    "result = model.wv.most_similar(positive=['ध्यानचंद','क्रिकेट'],negative=['हॉकी'] ,topn=10)\n",
    "print(result)"
   ]
  },
  {
   "cell_type": "code",
   "execution_count": 10,
   "metadata": {},
   "outputs": [
    {
     "data": {
      "text/plain": [
       "[('मिथिलांचल', 0.7737730741500854),\n",
       " ('रामेश्वरम', 0.7221984267234802),\n",
       " ('नन्दा', 0.7005703449249268),\n",
       " ('त्रिपुरा', 0.7004174590110779),\n",
       " ('शृंगेरी', 0.6957623362541199),\n",
       " ('कौशांबी', 0.6934546828269958),\n",
       " ('षष्ठी', 0.6921010613441467),\n",
       " ('गणगौर', 0.6886007785797119),\n",
       " ('होशियारपुर', 0.687568187713623),\n",
       " ('संबलपुर', 0.686922013759613)]"
      ]
     },
     "execution_count": 10,
     "metadata": {},
     "output_type": "execute_result"
    }
   ],
   "source": [
    "model.wv.most_similar('उडीसा')"
   ]
  },
  {
   "cell_type": "code",
   "execution_count": 11,
   "metadata": {},
   "outputs": [],
   "source": [
    "import matplotlib.pyplot as plt\n",
    "from matplotlib.font_manager import FontProperties\n",
    "\n",
    "hindi_font = FontProperties(fname = 'Nirmala.ttf')"
   ]
  },
  {
   "cell_type": "code",
   "execution_count": 12,
   "metadata": {},
   "outputs": [],
   "source": [
    "def display_closestwords_tsnescatterplot(model, word):\n",
    "    \n",
    "    arr = np.empty((0,300))\n",
    "    word_labels = [word]\n",
    "\n",
    "    # get close words\n",
    "    close_words = model.similar_by_word(word)\n",
    "    \n",
    "    # add the vector for each of the closest words to the array\n",
    "    arr = np.append(arr, np.array([model[word]]), axis=0)\n",
    "    for wrd_score in close_words:\n",
    "        wrd_vector = model[wrd_score[0]]\n",
    "        word_labels.append(wrd_score[0])\n",
    "        arr = np.append(arr, np.array([wrd_vector]), axis=0)\n",
    "        \n",
    "    # find tsne coords for 2 dimensions\n",
    "    tsne = TSNE(n_components=2, random_state=0)\n",
    "    np.set_printoptions(suppress=True)\n",
    "    Y = tsne.fit_transform(arr)\n",
    "\n",
    "    x_coords = Y[:, 0]\n",
    "    y_coords = Y[:, 1]\n",
    "    # display scatter plot\n",
    "    plt.scatter(x_coords, y_coords)\n",
    "    \n",
    "    #print(word_labels)\n",
    "    #print(wrd_vector.shape)\n",
    "    for label, x, y in zip(word_labels, x_coords, y_coords):\n",
    "        #print(label)\n",
    "        \n",
    "        plt.annotate(label, xy=(x, y),fontproperties=hindi_font)\n",
    "    plt.xlim(x_coords.min()+0.00005, x_coords.max()+0.00005)\n",
    "    plt.ylim(y_coords.min()+0.00005, y_coords.max()+0.00005)\n",
    "    plt.show()"
   ]
  },
  {
   "cell_type": "code",
   "execution_count": null,
   "metadata": {},
   "outputs": [],
   "source": []
  },
  {
   "cell_type": "code",
   "execution_count": 13,
   "metadata": {},
   "outputs": [
    {
     "name": "stderr",
     "output_type": "stream",
     "text": [
      "/anaconda3/lib/python3.6/site-packages/ipykernel_launcher.py:7: DeprecationWarning: Call to deprecated `similar_by_word` (Method will be removed in 4.0.0, use self.wv.similar_by_word() instead).\n",
      "  import sys\n",
      "/anaconda3/lib/python3.6/site-packages/ipykernel_launcher.py:10: DeprecationWarning: Call to deprecated `__getitem__` (Method will be removed in 4.0.0, use self.wv.__getitem__() instead).\n",
      "  # Remove the CWD from sys.path while we load stuff.\n",
      "/anaconda3/lib/python3.6/site-packages/ipykernel_launcher.py:12: DeprecationWarning: Call to deprecated `__getitem__` (Method will be removed in 4.0.0, use self.wv.__getitem__() instead).\n",
      "  if sys.path[0] == '':\n"
     ]
    },
    {
     "data": {
      "image/png": "[encoded data removed]",
      "text/plain": [
       "<Figure size 432x288 with 1 Axes>"
      ]
     },
     "metadata": {},
     "output_type": "display_data"
    }
   ],
   "source": [
    "display_closestwords_tsnescatterplot(model, 'नाटिका')"
   ]
  },
  {
   "cell_type": "code",
   "execution_count": null,
   "metadata": {},
   "outputs": [],
   "source": []
  }
 ],
 "metadata": {
  "kernelspec": {
   "display_name": "Python 3",
   "language": "python",
   "name": "python3"
  },
  "language_info": {
   "codemirror_mode": {
    "name": "ipython",
    "version": 3
   },
   "file_extension": ".py",
   "mimetype": "text/x-python",
   "name": "python",
   "nbconvert_exporter": "python",
   "pygments_lexer": "ipython3",
   "version": "3.6.5"
  }
 },
 "nbformat": 4,
 "nbformat_minor": 2
}
